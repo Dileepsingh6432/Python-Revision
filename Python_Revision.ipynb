{
  "nbformat": 4,
  "nbformat_minor": 0,
  "metadata": {
    "colab": {
      "provenance": [],
      "authorship_tag": "ABX9TyM2JdQO6l2sIpvU/hV4DUpy",
      "include_colab_link": true
    },
    "kernelspec": {
      "name": "python3",
      "display_name": "Python 3"
    },
    "language_info": {
      "name": "python"
    }
  },
  "cells": [
    {
      "cell_type": "markdown",
      "metadata": {
        "id": "view-in-github",
        "colab_type": "text"
      },
      "source": [
        "<a href=\"https://colab.research.google.com/github/Dileepsingh6432/Python-Revision/blob/main/Python_Revision.ipynb\" target=\"_parent\"><img src=\"https://colab.research.google.com/assets/colab-badge.svg\" alt=\"Open In Colab\"/></a>"
      ]
    },
    {
      "cell_type": "markdown",
      "source": [
        "A **Statement** is an instruction that the Python interpreter can execute.\n",
        " Eg. Assignment statement, For, while, import, etc.\n",
        "\n",
        "\n",
        "An **Expression** is a combination of values, variables, operators, and calls to functions."
      ],
      "metadata": {
        "id": "9sup88CTAVxD"
      }
    },
    {
      "cell_type": "code",
      "source": [],
      "metadata": {
        "id": "vH4h4oeX_mJ0"
      },
      "execution_count": null,
      "outputs": []
    }
  ]
}