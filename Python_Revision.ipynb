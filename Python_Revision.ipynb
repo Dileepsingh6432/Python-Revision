{
  "nbformat": 4,
  "nbformat_minor": 0,
  "metadata": {
    "colab": {
      "provenance": [],
      "authorship_tag": "ABX9TyM4M3t4VIdcoovFSPC0Y512",
      "include_colab_link": true
    },
    "kernelspec": {
      "name": "python3",
      "display_name": "Python 3"
    },
    "language_info": {
      "name": "python"
    }
  },
  "cells": [
    {
      "cell_type": "markdown",
      "metadata": {
        "id": "view-in-github",
        "colab_type": "text"
      },
      "source": [
        "<a href=\"https://colab.research.google.com/github/Dileepsingh6432/Python-Revision/blob/main/Python_Revision.ipynb\" target=\"_parent\"><img src=\"https://colab.research.google.com/assets/colab-badge.svg\" alt=\"Open In Colab\"/></a>"
      ]
    },
    {
      "cell_type": "markdown",
      "source": [
        "A **Statement** is an instruction that the Python interpreter can execute.\n",
        " Eg. Assignment statement, For, while, import, etc.\n",
        "\n",
        "\n",
        "An **Expression** is a combination of values, variables, operators, and calls to functions."
      ],
      "metadata": {
        "id": "9sup88CTAVxD"
      }
    },
    {
      "cell_type": "markdown",
      "source": [
        "## Strings\n",
        "\n",
        "Strings in Python are actually a *sequence*, which     basically means Python keeps track of every element in the string as a sequence.\n",
        "\n",
        "### <b> Python's built-in len() function counts all of the characters in the string, including spaces and punctuation. </b>\n",
        "\n",
        "### <u> String Indexing </u>\n",
        "\n",
        "* We know strings are a sequence, which means Python can use indexes to call parts of the sequence.\n",
        "\n",
        "\n",
        "* A string index refers to the location of an element present in a string.\n",
        "\n",
        "\n",
        "* The indexing begins from 0 in Python.\n",
        "\n",
        "\n",
        "* The first element is assigned an index 0, the second element is assigned an index of 1 and so on and so forth.\n",
        "\n",
        "\n",
        "* In Python, we use brackets <code>[]</code> after an object to call its index."
      ],
      "metadata": {
        "id": "MiDLm1q3iI91"
      }
    },
    {
      "cell_type": "markdown",
      "source": [
        "###  Creating a String\n",
        "* To create a string in Python you need to use either single quotes or double quotes.\n",
        "\n",
        "## String Slicing\n",
        "* We can use a <code>:</code> to perform *slicing* which grabs everything up to a designated point.\n",
        "\n",
        "\n",
        "* The starting index is specified on the left of the <code>:</code> and the ending index is specified on the right of the <code>:</code>.\n",
        "\n",
        "\n",
        "* Remember the element located at the right index is not included."
      ],
      "metadata": {
        "id": "NueeNi4UilCy"
      }
    },
    {
      "cell_type": "markdown",
      "source": [
        "## String Properties\n",
        "\n",
        "* It's important to note that strings have an important property known as *immutability*.\n",
        "\n",
        "\n",
        "* This means that once a string is created, the elements within it can not be changed or replaced via item assignment. We will see how we can do such operation using string methods"
      ],
      "metadata": {
        "id": "EyZXOm58i7Ig"
      }
    },
    {
      "cell_type": "markdown",
      "source": [],
      "metadata": {
        "id": "B6mav6b8jIDI"
      }
    },
    {
      "cell_type": "markdown",
      "metadata": {
        "id": "duTA9_hlmr2C"
      },
      "source": [
        "## String functions and methods"
      ]
    },
    {
      "cell_type": "code",
      "metadata": {
        "id": "0Wy8i1-Mmr2D",
        "colab": {
          "base_uri": "https://localhost:8080/"
        },
        "outputId": "e8a4249e-4a08-4af9-916d-cc63ac99fdd2"
      },
      "source": [
        "algorithm = 'Neural Networks'\n",
        "\n",
        "print(algorithm)"
      ],
      "execution_count": null,
      "outputs": [
        {
          "output_type": "stream",
          "text": [
            "Neural Networks\n"
          ],
          "name": "stdout"
        }
      ]
    },
    {
      "cell_type": "markdown",
      "metadata": {
        "id": "03n7vTXRmr2E"
      },
      "source": [
        "### <code>len()</code>\n",
        "\n",
        "* <code>len()</code> function returns the length of the string"
      ]
    },
    {
      "cell_type": "code",
      "metadata": {
        "id": "At6CdDUgmr2F",
        "colab": {
          "base_uri": "https://localhost:8080/"
        },
        "outputId": "44b85688-cce9-4751-fa62-4456480a008d"
      },
      "source": [
        "# Print the length of the string\n",
        "len(algorithm)"
      ],
      "execution_count": null,
      "outputs": [
        {
          "output_type": "execute_result",
          "data": {
            "text/plain": [
              "15"
            ]
          },
          "metadata": {
            "tags": []
          },
          "execution_count": 87
        }
      ]
    },
    {
      "cell_type": "markdown",
      "metadata": {
        "id": "cF2zYtzdmr2G"
      },
      "source": [
        "###  <code>lower()</code>\n",
        "\n",
        "* <code>lower()</code> method converts the string to lowercase"
      ]
    },
    {
      "cell_type": "code",
      "metadata": {
        "id": "nX86MJxZmr2H",
        "colab": {
          "base_uri": "https://localhost:8080/",
          "height": 34
        },
        "outputId": "fc48bd40-085e-4bde-8a3b-d2307384d86c"
      },
      "source": [
        "# Conver the string to lowercase\n",
        "algorithm.lower()"
      ],
      "execution_count": null,
      "outputs": [
        {
          "output_type": "execute_result",
          "data": {
            "application/vnd.google.colaboratory.intrinsic+json": {
              "type": "string"
            },
            "text/plain": [
              "'neural networks'"
            ]
          },
          "metadata": {
            "tags": []
          },
          "execution_count": 88
        }
      ]
    },
    {
      "cell_type": "code",
      "metadata": {
        "id": "uNysVw_SsMNn",
        "colab": {
          "base_uri": "https://localhost:8080/"
        },
        "outputId": "bf175166-692d-4964-8b8c-a48b734add4e"
      },
      "source": [
        "print(algorithm)"
      ],
      "execution_count": null,
      "outputs": [
        {
          "output_type": "stream",
          "text": [
            "Neural Networks\n"
          ],
          "name": "stdout"
        }
      ]
    },
    {
      "cell_type": "markdown",
      "metadata": {
        "id": "858z5CKZmr2J"
      },
      "source": [
        "* <u> What about <code>lower(algorithm)</code>? Is it not similar to the <code>len()</code>function?</u>\n",
        "\n",
        "\n",
        "* <u> An important point to note here is <code>len()</code> is a function and <code>lower()</code> is a method for a string object. It will be pretty clear about the exact differences between a function and a method as we move ahead. </u>"
      ]
    },
    {
      "cell_type": "code",
      "metadata": {
        "id": "dUG6OM68mr2J",
        "colab": {
          "base_uri": "https://localhost:8080/",
          "height": 184
        },
        "outputId": "1bc77bce-6a97-4900-8a03-c9aa2b09586f"
      },
      "source": [
        "# Lets try that out\n",
        "lower(algorithm)"
      ],
      "execution_count": null,
      "outputs": [
        {
          "output_type": "error",
          "ename": "NameError",
          "evalue": "ignored",
          "traceback": [
            "\u001b[0;31m---------------------------------------------------------------------------\u001b[0m",
            "\u001b[0;31mNameError\u001b[0m                                 Traceback (most recent call last)",
            "\u001b[0;32m<ipython-input-90-4d609230893c>\u001b[0m in \u001b[0;36m<module>\u001b[0;34m()\u001b[0m\n\u001b[1;32m      1\u001b[0m \u001b[0;31m# Lets try that out\u001b[0m\u001b[0;34m\u001b[0m\u001b[0;34m\u001b[0m\u001b[0;34m\u001b[0m\u001b[0m\n\u001b[0;32m----> 2\u001b[0;31m \u001b[0mlower\u001b[0m\u001b[0;34m(\u001b[0m\u001b[0malgorithm\u001b[0m\u001b[0;34m)\u001b[0m\u001b[0;34m\u001b[0m\u001b[0;34m\u001b[0m\u001b[0m\n\u001b[0m",
            "\u001b[0;31mNameError\u001b[0m: name 'lower' is not defined"
          ]
        }
      ]
    },
    {
      "cell_type": "markdown",
      "metadata": {
        "id": "Uk9EwCKRmr2L"
      },
      "source": [
        "###  <code>upper()</code>\n",
        "\n",
        "* <code>upper()</code> method converts the string to uppercase"
      ]
    },
    {
      "cell_type": "code",
      "metadata": {
        "id": "cqkxoLYwmr2M",
        "colab": {
          "base_uri": "https://localhost:8080/",
          "height": 34
        },
        "outputId": "dd0a6aae-9b7c-4415-a39e-e170af2a4109"
      },
      "source": [
        "# Convert the string to uppercase\n",
        "algorithm.upper()"
      ],
      "execution_count": null,
      "outputs": [
        {
          "output_type": "execute_result",
          "data": {
            "application/vnd.google.colaboratory.intrinsic+json": {
              "type": "string"
            },
            "text/plain": [
              "'NEURAL NETWORKS'"
            ]
          },
          "metadata": {
            "tags": []
          },
          "execution_count": 91
        }
      ]
    },
    {
      "cell_type": "code",
      "metadata": {
        "colab": {
          "base_uri": "https://localhost:8080/"
        },
        "id": "yO16_FvNP3u3",
        "outputId": "d42b952f-09b0-4d50-a378-15f6842c4e77"
      },
      "source": [
        "print(algorithm)"
      ],
      "execution_count": null,
      "outputs": [
        {
          "output_type": "stream",
          "text": [
            "Neural Networks\n"
          ],
          "name": "stdout"
        }
      ]
    },
    {
      "cell_type": "markdown",
      "metadata": {
        "id": "ikQx6g8tmr2P"
      },
      "source": [
        "### <code>count()</code>\n",
        "\n",
        "*  <code>count()</code> method returns the count of a string in the given string. Unlike <code>lower()</code> and <code>upper()</code> method, the <code>count()</code> method takes a string as an argument"
      ]
    },
    {
      "cell_type": "code",
      "metadata": {
        "id": "NZ4Z8talmr2Q",
        "colab": {
          "base_uri": "https://localhost:8080/"
        },
        "outputId": "aad5c7f7-f49a-458f-b61f-e1777d5dc93f"
      },
      "source": [
        "print(algorithm)"
      ],
      "execution_count": null,
      "outputs": [
        {
          "output_type": "stream",
          "text": [
            "Neural Networks\n"
          ],
          "name": "stdout"
        }
      ]
    },
    {
      "cell_type": "code",
      "metadata": {
        "id": "fYzKjXf5mr2T",
        "colab": {
          "base_uri": "https://localhost:8080/"
        },
        "outputId": "4b25aeb1-c0e7-4592-b368-996d272264c7"
      },
      "source": [
        "algorithm.count('Ne')"
      ],
      "execution_count": null,
      "outputs": [
        {
          "output_type": "execute_result",
          "data": {
            "text/plain": [
              "2"
            ]
          },
          "metadata": {
            "tags": []
          },
          "execution_count": 97
        }
      ]
    },
    {
      "cell_type": "code",
      "metadata": {
        "id": "iM7o2uh-mr2W",
        "colab": {
          "base_uri": "https://localhost:8080/",
          "height": 34
        },
        "outputId": "c54542d9-8967-4fca-c95b-287b57e5c189"
      },
      "source": [
        "algorithm.count('eu')"
      ],
      "execution_count": null,
      "outputs": [
        {
          "output_type": "execute_result",
          "data": {
            "text/plain": [
              "1"
            ]
          },
          "metadata": {
            "tags": []
          },
          "execution_count": 96
        }
      ]
    },
    {
      "cell_type": "code",
      "metadata": {
        "id": "3En7zUGmmr2c",
        "colab": {
          "base_uri": "https://localhost:8080/"
        },
        "outputId": "6b26fdd9-82f0-472a-a3cd-3c1fc934222f"
      },
      "source": [
        "algorithm.count(' ')"
      ],
      "execution_count": null,
      "outputs": [
        {
          "output_type": "execute_result",
          "data": {
            "text/plain": [
              "1"
            ]
          },
          "metadata": {
            "tags": []
          },
          "execution_count": 98
        }
      ]
    },
    {
      "cell_type": "code",
      "metadata": {
        "id": "omv1VDDqmr2f",
        "colab": {
          "base_uri": "https://localhost:8080/",
          "height": 34
        },
        "outputId": "5d21adde-f12f-4703-df2e-78b4358309b5"
      },
      "source": [
        "algorithm.count('Neural')"
      ],
      "execution_count": null,
      "outputs": [
        {
          "output_type": "execute_result",
          "data": {
            "text/plain": [
              "1"
            ]
          },
          "metadata": {
            "tags": []
          },
          "execution_count": 98
        }
      ]
    },
    {
      "cell_type": "code",
      "metadata": {
        "id": "nvHrSXJRmr2h",
        "colab": {
          "base_uri": "https://localhost:8080/"
        },
        "outputId": "48ed1678-1e80-4817-92b4-ab9659336b18"
      },
      "source": [
        "algorithm.count('Neurla')"
      ],
      "execution_count": null,
      "outputs": [
        {
          "output_type": "execute_result",
          "data": {
            "text/plain": [
              "0"
            ]
          },
          "metadata": {
            "tags": []
          },
          "execution_count": 99
        }
      ]
    },
    {
      "cell_type": "markdown",
      "metadata": {
        "id": "YPKnWGBFmr2k"
      },
      "source": [
        "### <code>find()</code>\n",
        "\n",
        "* <code>find()</code> method returns the index of the first occurrence of a string present in a given string. Similar to the <code>count()</code> method, the <code>find()</code> method takes a string as an argument"
      ]
    },
    {
      "cell_type": "code",
      "metadata": {
        "id": "GfkJ9pWbt5AU",
        "colab": {
          "base_uri": "https://localhost:8080/"
        },
        "outputId": "5117d5f1-a711-4794-caab-3aaabae4f7a3"
      },
      "source": [
        "print(algorithm)"
      ],
      "execution_count": null,
      "outputs": [
        {
          "output_type": "stream",
          "text": [
            "Neural Networks\n"
          ],
          "name": "stdout"
        }
      ]
    },
    {
      "cell_type": "code",
      "metadata": {
        "id": "ILyYqHUnmr2k",
        "colab": {
          "base_uri": "https://localhost:8080/"
        },
        "outputId": "954e2ab0-2413-482c-a82f-cf7ae94cd27b"
      },
      "source": [
        "algorithm.find('e')"
      ],
      "execution_count": null,
      "outputs": [
        {
          "output_type": "execute_result",
          "data": {
            "text/plain": [
              "1"
            ]
          },
          "metadata": {
            "tags": []
          },
          "execution_count": 101
        }
      ]
    },
    {
      "cell_type": "code",
      "metadata": {
        "id": "8cGFl7nEmr2n",
        "colab": {
          "base_uri": "https://localhost:8080/"
        },
        "outputId": "323abc8f-366f-4fc7-f3e9-4cfee4c076c9"
      },
      "source": [
        "algorithm.find('Neural')"
      ],
      "execution_count": null,
      "outputs": [
        {
          "output_type": "execute_result",
          "data": {
            "text/plain": [
              "0"
            ]
          },
          "metadata": {
            "tags": []
          },
          "execution_count": 102
        }
      ]
    },
    {
      "cell_type": "code",
      "metadata": {
        "id": "eCSKV08mmr2q",
        "colab": {
          "base_uri": "https://localhost:8080/"
        },
        "outputId": "b7ea4ce9-98d3-4221-8dcd-6da9c52d47d8"
      },
      "source": [
        "algorithm.find('Box')"
      ],
      "execution_count": null,
      "outputs": [
        {
          "output_type": "execute_result",
          "data": {
            "text/plain": [
              "-1"
            ]
          },
          "metadata": {
            "tags": []
          },
          "execution_count": 103
        }
      ]
    },
    {
      "cell_type": "markdown",
      "metadata": {
        "id": "QnIAoEnEmr2t"
      },
      "source": [
        "* <u>An important point to note here is that if the string which you are looking for, is not contained in the original string, then the find method will return a value of -1 </u>"
      ]
    },
    {
      "cell_type": "markdown",
      "metadata": {
        "id": "-Q_dsma-mr2t"
      },
      "source": [
        "### <code>replace()</code>\n",
        "\n",
        "*  <code>replace()</code> method takes two arguments - (i) the string to replace and (ii) the string to replace with, and returns a modified string after the operation"
      ]
    },
    {
      "cell_type": "code",
      "metadata": {
        "colab": {
          "base_uri": "https://localhost:8080/"
        },
        "id": "9X7rqsDnRyiX",
        "outputId": "ae5ce54e-915b-4d39-a716-dc289baa0572"
      },
      "source": [
        "print(algorithm)"
      ],
      "execution_count": null,
      "outputs": [
        {
          "output_type": "stream",
          "text": [
            "Neural Networks\n"
          ],
          "name": "stdout"
        }
      ]
    },
    {
      "cell_type": "code",
      "metadata": {
        "id": "rnokQ_6kmr2u",
        "colab": {
          "base_uri": "https://localhost:8080/",
          "height": 34
        },
        "outputId": "f953896e-d73e-4150-c4e7-caf69caaea3c"
      },
      "source": [
        "algorithm.replace(' ','-')"
      ],
      "execution_count": null,
      "outputs": [
        {
          "output_type": "execute_result",
          "data": {
            "application/vnd.google.colaboratory.intrinsic+json": {
              "type": "string"
            },
            "text/plain": [
              "'Neural-Networks'"
            ]
          },
          "metadata": {
            "tags": []
          },
          "execution_count": 105
        }
      ]
    },
    {
      "cell_type": "code",
      "metadata": {
        "id": "9x114Rapmr2w",
        "colab": {
          "base_uri": "https://localhost:8080/",
          "height": 34
        },
        "outputId": "44dddaea-9e74-449c-ff88-ebef432aff31"
      },
      "source": [
        "algorithm.replace('N','L')"
      ],
      "execution_count": null,
      "outputs": [
        {
          "output_type": "execute_result",
          "data": {
            "application/vnd.google.colaboratory.intrinsic+json": {
              "type": "string"
            },
            "text/plain": [
              "'Leural Letworks'"
            ]
          },
          "metadata": {
            "tags": []
          },
          "execution_count": 106
        }
      ]
    },
    {
      "cell_type": "code",
      "metadata": {
        "id": "djxLa2-Hmr2z",
        "colab": {
          "base_uri": "https://localhost:8080/",
          "height": 34
        },
        "outputId": "3a374470-a11f-4f97-f148-e4e2b7a2b52b"
      },
      "source": [
        "print(algorithm)"
      ],
      "execution_count": null,
      "outputs": [
        {
          "output_type": "stream",
          "text": [
            "Neural Networks\n"
          ],
          "name": "stdout"
        }
      ]
    },
    {
      "cell_type": "markdown",
      "metadata": {
        "id": "s2Mh-mbimr22"
      },
      "source": [
        "* <u>Another important point worth noting here is applying any method on a string does not actually change the original string. For example, when you print out the algorithm string, it still contains the original value 'Neural Networks'</u>\n",
        "\n",
        "\n",
        "* <u> We need to store the modified string in another variable"
      ]
    },
    {
      "cell_type": "code",
      "metadata": {
        "id": "tW013YBJmr22",
        "colab": {
          "base_uri": "https://localhost:8080/"
        },
        "outputId": "cd8cc1b4-ee4e-4ba8-f858-d0dcb23a1f9c"
      },
      "source": [
        "# Storing the modified string\n",
        "algorithm_revised  = algorithm.replace('Neural','Artificial Neural')\n",
        "print(algorithm_revised)\n",
        "print(algorithm)"
      ],
      "execution_count": null,
      "outputs": [
        {
          "output_type": "stream",
          "text": [
            "Artificial Neural Networks\n",
            "Neural Networks\n"
          ],
          "name": "stdout"
        }
      ]
    },
    {
      "cell_type": "markdown",
      "metadata": {
        "id": "uOh2_4hKmr24"
      },
      "source": [
        "### Printing strings a bit differently"
      ]
    },
    {
      "cell_type": "code",
      "metadata": {
        "id": "AJjdr5ghmr24",
        "colab": {
          "base_uri": "https://localhost:8080/"
        },
        "outputId": "8725a50c-b976-477e-bf3f-2c67468f8fd7"
      },
      "source": [
        "first_name = 'Rahul'\n",
        "last_name = 'Modi'\n",
        "\n",
        "full_name = f'Left plus right makes {first_name}  {last_name}'  # Use {} to print the variable you want to\n",
        "print(full_name)"
      ],
      "execution_count": null,
      "outputs": [
        {
          "output_type": "stream",
          "text": [
            "Left plus right makes Rahul  Modi\n"
          ],
          "name": "stdout"
        }
      ]
    },
    {
      "cell_type": "code",
      "metadata": {
        "id": "K-p0nqpjwANZ",
        "colab": {
          "base_uri": "https://localhost:8080/",
          "height": 34
        },
        "outputId": "32dd6355-b248-41b0-c333-afb246458475"
      },
      "source": [
        "print(first_name + ' '+last_name)"
      ],
      "execution_count": null,
      "outputs": [
        {
          "output_type": "stream",
          "text": [
            "Rahul Modi\n"
          ],
          "name": "stdout"
        }
      ]
    },
    {
      "cell_type": "code",
      "metadata": {
        "id": "qIHd9TJ_RTZs"
      },
      "source": [],
      "execution_count": null,
      "outputs": []
    },
    {
      "cell_type": "code",
      "metadata": {
        "id": "2CR9yok8mr29",
        "colab": {
          "base_uri": "https://localhost:8080/"
        },
        "outputId": "170ed227-7dce-44e8-9d13-83e99fcfffbc"
      },
      "source": [
        "first_name = 'Vikash'\n",
        "middle_name = ''\n",
        "last_name = 'Srivastava'\n",
        "\n",
        "full_name = f'I am none other than {first_name} {middle_name}{last_name}. I am a Data Scientist'\n",
        "print(full_name)"
      ],
      "execution_count": null,
      "outputs": [
        {
          "output_type": "stream",
          "text": [
            "I am none other than Vikash Srivastava. I am a Data Scientist\n"
          ],
          "name": "stdout"
        }
      ]
    },
    {
      "cell_type": "code",
      "metadata": {
        "colab": {
          "base_uri": "https://localhost:8080/"
        },
        "id": "lXeN8B21TyZW",
        "outputId": "69692b3e-3d8d-463b-af38-4cb9b8fb002b"
      },
      "source": [
        "print(f'I am none other than {first_name} {middle_name}{last_name}. I am a Data Scientist')"
      ],
      "execution_count": null,
      "outputs": [
        {
          "output_type": "stream",
          "text": [
            "I am none other than Vikash Srivastava. I am a Data Scientist\n"
          ],
          "name": "stdout"
        }
      ]
    },
    {
      "cell_type": "markdown",
      "metadata": {
        "id": "B6x3RSMkmr3A"
      },
      "source": [
        "### Check if a string contains a particular word or character"
      ]
    },
    {
      "cell_type": "code",
      "metadata": {
        "id": "gxoRht92mr3A"
      },
      "source": [
        "my_string = 'Albert Einstein'"
      ],
      "execution_count": null,
      "outputs": []
    },
    {
      "cell_type": "code",
      "metadata": {
        "id": "NrXXZLYsxNlT",
        "colab": {
          "base_uri": "https://localhost:8080/"
        },
        "outputId": "2269b32c-829e-4f02-cc0e-58db1eb478cb"
      },
      "source": [
        "'Albert' in my_string"
      ],
      "execution_count": null,
      "outputs": [
        {
          "output_type": "execute_result",
          "data": {
            "text/plain": [
              "True"
            ]
          },
          "metadata": {
            "tags": []
          },
          "execution_count": 113
        }
      ]
    },
    {
      "cell_type": "code",
      "metadata": {
        "id": "mlMC_fR5UPmK",
        "colab": {
          "base_uri": "https://localhost:8080/"
        },
        "outputId": "11d444d0-a7d5-4a6d-e25e-8e42d012de84"
      },
      "source": [
        "'Alberta' in my_string"
      ],
      "execution_count": null,
      "outputs": [
        {
          "output_type": "execute_result",
          "data": {
            "text/plain": [
              "False"
            ]
          },
          "metadata": {
            "tags": []
          },
          "execution_count": 114
        }
      ]
    },
    {
      "cell_type": "markdown",
      "source": [
        "# Lists\n",
        "\n",
        "### Earlier when discussing strings we introduced the concept of a <u>sequence</u> in Python.\n",
        "* <u>Lists</u> can be thought of the most general version of a *sequence* in Python.\n",
        "\n",
        "\n",
        "* Unlike strings, they are mutable, meaning the elements inside a list can be changed!\n",
        "\n",
        "\n",
        "* Lists are constructed with brackets <code>[]</code> and commas separating every element in the list."
      ],
      "metadata": {
        "id": "w9B6Ke2_jilf"
      }
    },
    {
      "cell_type": "markdown",
      "source": [
        "## List Indexing\n",
        "* Indexing work just like in strings.\n",
        "\n",
        "\n",
        "* A list index refers to the location of an element in a list.\n",
        "\n",
        "\n",
        "* Remember the indexing begins from 0 in Python.\n",
        "\n",
        "\n",
        "* The first element is assigned an index 0, the second element is assigned an index of 1 and so on and so forth."
      ],
      "metadata": {
        "id": "9cE4wqR4jk6k"
      }
    },
    {
      "cell_type": "markdown",
      "source": [
        "## List Slicing\n",
        "\n",
        "* We can use a <code>:</code> to perform *slicing* which grabs everything up to a designated point.\n",
        "\n",
        "\n",
        "* The starting index is specified on the left of the <code>:</code> and the ending index is specified on the right of the <code>:</code>.\n",
        "\n",
        "\n",
        "* Remember the element located at the right index is not included."
      ],
      "metadata": {
        "id": "LTK7Cwt5j1aZ"
      }
    },
    {
      "cell_type": "code",
      "source": [],
      "metadata": {
        "id": "II6ZqndDkDWg"
      },
      "execution_count": null,
      "outputs": []
    },
    {
      "cell_type": "markdown",
      "metadata": {
        "id": "vPF4zcaEuH3X"
      },
      "source": [
        "## List Functions"
      ]
    },
    {
      "cell_type": "markdown",
      "metadata": {
        "id": "6Qd7qKM1uH3Y"
      },
      "source": [
        "### <code>len()</code>\n",
        "\n",
        "\n",
        "* <code>len()</code> function returns the length of the list"
      ]
    },
    {
      "cell_type": "code",
      "metadata": {
        "id": "EOLMTcMvuH3Z",
        "colab": {
          "base_uri": "https://localhost:8080/"
        },
        "outputId": "e47f380a-dbd3-4261-8e87-62dcad7dcd51"
      },
      "source": [
        "print(loss_functions)"
      ],
      "execution_count": null,
      "outputs": [
        {
          "output_type": "stream",
          "text": [
            "['Mean Absolute Error', 'Mean Squared Error', 'Huber Loss', 'Log Loss', 'Hinge Loss', 'Kullback-Leibler']\n"
          ],
          "name": "stdout"
        }
      ]
    },
    {
      "cell_type": "code",
      "metadata": {
        "id": "mNKWrF1wuH3c",
        "colab": {
          "base_uri": "https://localhost:8080/"
        },
        "outputId": "d827527a-2d18-4dca-d9fd-a3eb8cff6eba"
      },
      "source": [
        "len(loss_functions)"
      ],
      "execution_count": null,
      "outputs": [
        {
          "output_type": "execute_result",
          "data": {
            "text/plain": [
              "6"
            ]
          },
          "metadata": {
            "tags": []
          },
          "execution_count": 30
        }
      ]
    },
    {
      "cell_type": "markdown",
      "metadata": {
        "id": "p7d98KoOuH3f"
      },
      "source": [
        "### <code>min()</code>\n",
        "\n",
        "\n",
        "* <code>min()</code> function returns the minimum element of the list\n",
        "\n",
        "\n",
        "* <code>min()</code> function only works with lists of similar data types"
      ]
    },
    {
      "cell_type": "code",
      "metadata": {
        "id": "wLccOV7wuH3f"
      },
      "source": [
        "new_list = [6, 9, 1, 3, 5.5]"
      ],
      "execution_count": null,
      "outputs": []
    },
    {
      "cell_type": "code",
      "metadata": {
        "id": "Y2Cu7bw0uH3j",
        "colab": {
          "base_uri": "https://localhost:8080/"
        },
        "outputId": "aed53c7d-4b6a-4735-a2a1-45c0f7d14d85"
      },
      "source": [
        "min(new_list)"
      ],
      "execution_count": null,
      "outputs": [
        {
          "output_type": "execute_result",
          "data": {
            "text/plain": [
              "1"
            ]
          },
          "metadata": {
            "tags": []
          },
          "execution_count": 32
        }
      ]
    },
    {
      "cell_type": "code",
      "metadata": {
        "id": "CE51jhX2Os8i"
      },
      "source": [
        "my_new_list = ['a','b', 'z' ,'y' , 'm']"
      ],
      "execution_count": null,
      "outputs": []
    },
    {
      "cell_type": "code",
      "metadata": {
        "colab": {
          "base_uri": "https://localhost:8080/",
          "height": 34
        },
        "id": "xU0MNka-OzHv",
        "outputId": "9c6902ef-1777-4da2-b9f3-e2a5cdfccc25"
      },
      "source": [
        "min(my_new_list)"
      ],
      "execution_count": null,
      "outputs": [
        {
          "output_type": "execute_result",
          "data": {
            "application/vnd.google.colaboratory.intrinsic+json": {
              "type": "string"
            },
            "text/plain": [
              "'a'"
            ]
          },
          "metadata": {
            "tags": []
          },
          "execution_count": 34
        }
      ]
    },
    {
      "cell_type": "markdown",
      "metadata": {
        "id": "et3AsvCkuH3n"
      },
      "source": [
        "### <code>max()</code>\n",
        "\n",
        "\n",
        "* <code>max()</code> function returns the maximum element of the list\n",
        "\n",
        "\n",
        "* <code>max()</code> function only works with lists of similar data types"
      ]
    },
    {
      "cell_type": "code",
      "metadata": {
        "id": "ehW2DQUouH3o"
      },
      "source": [
        "new_list = ['Argue','Burglar','Parent','Linear','shape']"
      ],
      "execution_count": null,
      "outputs": []
    },
    {
      "cell_type": "code",
      "metadata": {
        "id": "oexyHaR1uH3r",
        "colab": {
          "base_uri": "https://localhost:8080/",
          "height": 34
        },
        "outputId": "ec6902c1-afc4-43bb-820c-e92228bc15bc"
      },
      "source": [
        "max(new_list)"
      ],
      "execution_count": null,
      "outputs": [
        {
          "output_type": "execute_result",
          "data": {
            "application/vnd.google.colaboratory.intrinsic+json": {
              "type": "string"
            },
            "text/plain": [
              "'shape'"
            ]
          },
          "metadata": {
            "tags": []
          },
          "execution_count": 36
        }
      ]
    },
    {
      "cell_type": "markdown",
      "metadata": {
        "id": "1sitoBoVuH3u"
      },
      "source": [
        "### <code>sum()</code>\n",
        "\n",
        "\n",
        "* <code>sum()</code> function returns the sum of the elements of the list\n",
        "\n",
        "\n",
        "* <code>sum()</code> function only works with lists of numeric data types"
      ]
    },
    {
      "cell_type": "code",
      "metadata": {
        "id": "cXT_0utXuH3u"
      },
      "source": [
        "new_list = [6, 9, 1, 3, 5.5]"
      ],
      "execution_count": null,
      "outputs": []
    },
    {
      "cell_type": "code",
      "metadata": {
        "id": "tV5c5mkGuH3x",
        "colab": {
          "base_uri": "https://localhost:8080/"
        },
        "outputId": "8139efe4-e2a1-4292-e367-fe81502a472f"
      },
      "source": [
        "sum(new_list)"
      ],
      "execution_count": null,
      "outputs": [
        {
          "output_type": "execute_result",
          "data": {
            "text/plain": [
              "24.5"
            ]
          },
          "metadata": {
            "tags": []
          },
          "execution_count": 38
        }
      ]
    },
    {
      "cell_type": "markdown",
      "metadata": {
        "id": "V31491BvuH3z"
      },
      "source": [
        "### <code>sorted()</code>\n",
        "\n",
        "\n",
        "* <code>sorted()</code> function returns the sorted list\n",
        "\n",
        "\n",
        "* <code>sorted()</code> function takes reverse boolean as an argument\n",
        "\n",
        "\n",
        "* <code>sorted()</code> function only works on a list with similar data types"
      ]
    },
    {
      "cell_type": "code",
      "metadata": {
        "id": "yXeGjCRCuH30",
        "colab": {
          "base_uri": "https://localhost:8080/"
        },
        "outputId": "050b450e-d9fa-4e46-afd1-e9d3801819b2"
      },
      "source": [
        "new_list"
      ],
      "execution_count": null,
      "outputs": [
        {
          "output_type": "execute_result",
          "data": {
            "text/plain": [
              "[6, 9, 1, 3, 5.5]"
            ]
          },
          "metadata": {
            "tags": []
          },
          "execution_count": 39
        }
      ]
    },
    {
      "cell_type": "code",
      "metadata": {
        "id": "RoS_1mnyuH34",
        "colab": {
          "base_uri": "https://localhost:8080/"
        },
        "outputId": "6697b1ba-dfcb-45e2-85e0-124926f5db7c"
      },
      "source": [
        "sorted(new_list)"
      ],
      "execution_count": null,
      "outputs": [
        {
          "output_type": "execute_result",
          "data": {
            "text/plain": [
              "[1, 3, 5.5, 6, 9]"
            ]
          },
          "metadata": {
            "tags": []
          },
          "execution_count": 40
        }
      ]
    },
    {
      "cell_type": "code",
      "metadata": {
        "colab": {
          "base_uri": "https://localhost:8080/"
        },
        "id": "0gQjBslbRFLH",
        "outputId": "aa91f811-9b0b-45b7-eee3-3793f9696118"
      },
      "source": [
        "print(new_list)"
      ],
      "execution_count": null,
      "outputs": [
        {
          "output_type": "stream",
          "text": [
            "[6, 9, 1, 3, 5.5]\n"
          ],
          "name": "stdout"
        }
      ]
    },
    {
      "cell_type": "code",
      "metadata": {
        "id": "4t5yFdfLuJZi"
      },
      "source": [
        "new_list = ['Argue','Burglar','Parent','Linear','shape']"
      ],
      "execution_count": null,
      "outputs": []
    },
    {
      "cell_type": "code",
      "metadata": {
        "id": "PSPWx6EDuKw_",
        "colab": {
          "base_uri": "https://localhost:8080/",
          "height": 34
        },
        "outputId": "4d50fad9-ac1b-429e-f05b-8568dc5ef10c"
      },
      "source": [
        "sorted(new_list)"
      ],
      "execution_count": null,
      "outputs": [
        {
          "output_type": "execute_result",
          "data": {
            "text/plain": [
              "['Argue', 'Burglar', 'Linear', 'Parent', 'shape']"
            ]
          },
          "metadata": {
            "tags": []
          },
          "execution_count": 131
        }
      ]
    },
    {
      "cell_type": "code",
      "metadata": {
        "id": "YAybCJVUtElx",
        "colab": {
          "base_uri": "https://localhost:8080/",
          "height": 34
        },
        "outputId": "46a45b92-d652-4588-b719-addba726479c"
      },
      "source": [
        "print(new_list)"
      ],
      "execution_count": null,
      "outputs": [
        {
          "output_type": "stream",
          "text": [
            "[6, 9, 1, 3, 5.5]\n"
          ],
          "name": "stdout"
        }
      ]
    },
    {
      "cell_type": "code",
      "metadata": {
        "id": "qh3oquvquH38",
        "colab": {
          "base_uri": "https://localhost:8080/"
        },
        "outputId": "b2ac2957-3539-456a-f247-259bc2a6919e"
      },
      "source": [
        "sorted(new_list,reverse=True)"
      ],
      "execution_count": null,
      "outputs": [
        {
          "output_type": "execute_result",
          "data": {
            "text/plain": [
              "[9, 6, 5.5, 3, 1]"
            ]
          },
          "metadata": {
            "tags": []
          },
          "execution_count": 47
        }
      ]
    },
    {
      "cell_type": "code",
      "metadata": {
        "colab": {
          "base_uri": "https://localhost:8080/",
          "height": 166
        },
        "id": "e-eFh2jKRvJv",
        "outputId": "ad5a2239-7bb1-48b4-a60c-db15227b8c72"
      },
      "source": [
        "sorted(new_list)"
      ],
      "execution_count": null,
      "outputs": [
        {
          "output_type": "error",
          "ename": "TypeError",
          "evalue": "ignored",
          "traceback": [
            "\u001b[0;31m---------------------------------------------------------------------------\u001b[0m",
            "\u001b[0;31mTypeError\u001b[0m                                 Traceback (most recent call last)",
            "\u001b[0;32m<ipython-input-45-99e16da477d4>\u001b[0m in \u001b[0;36m<module>\u001b[0;34m()\u001b[0m\n\u001b[0;32m----> 1\u001b[0;31m \u001b[0msorted\u001b[0m\u001b[0;34m(\u001b[0m\u001b[0mnew_list\u001b[0m\u001b[0;34m,\u001b[0m\u001b[0;32mFalse\u001b[0m\u001b[0;34m)\u001b[0m\u001b[0;34m\u001b[0m\u001b[0;34m\u001b[0m\u001b[0m\n\u001b[0m",
            "\u001b[0;31mTypeError\u001b[0m: sorted expected 1 arguments, got 2"
          ]
        }
      ]
    },
    {
      "cell_type": "markdown",
      "metadata": {
        "id": "m4XdxpZHuH4B"
      },
      "source": [
        "* <code>sorted()</code> function does not change our list"
      ]
    },
    {
      "cell_type": "code",
      "metadata": {
        "id": "3y-kuB8tuH4B",
        "colab": {
          "base_uri": "https://localhost:8080/"
        },
        "outputId": "3fb2a7d2-b2ad-4d59-83fc-5c8294d7d4f5"
      },
      "source": [
        "new_list"
      ],
      "execution_count": null,
      "outputs": [
        {
          "output_type": "execute_result",
          "data": {
            "text/plain": [
              "[6, 9, 1, 3, 5.5]"
            ]
          },
          "metadata": {
            "tags": []
          },
          "execution_count": 44
        }
      ]
    },
    {
      "cell_type": "code",
      "source": [],
      "metadata": {
        "id": "1nbOMHEwkG38"
      },
      "execution_count": null,
      "outputs": []
    },
    {
      "cell_type": "markdown",
      "metadata": {
        "id": "gzCO-o-1uH4F"
      },
      "source": [
        "## List Methods\n",
        "\n",
        "* If you are familiar with another programming language, you might start to draw parallels between arrays in another language and lists in Python. Lists in Python however, tend to be more flexible than arrays in other languages for a two good reasons: they have no fixed size (meaning we don't have to specify how big a list will be), and they have no fixed type constraint (like we've seen above).\n",
        "\n",
        "\n",
        "* Let's go ahead and explore some more special methods for lists:"
      ]
    },
    {
      "cell_type": "code",
      "metadata": {
        "id": "q-kfah9VuH4H"
      },
      "source": [
        "# Create a new list\n",
        "my_list = [1,2,3,1,1,1,3,10,5,8]"
      ],
      "execution_count": null,
      "outputs": []
    },
    {
      "cell_type": "markdown",
      "metadata": {
        "id": "BgmqyEUHuH4M"
      },
      "source": [
        "### <code>append()</code>\n",
        "\n",
        "* Use the <code>append()</code> method to permanently add an item to the end of a list.\n",
        "\n",
        "\n",
        "* <code>append()</code> method takes the element which you want to add to the list as an argument"
      ]
    },
    {
      "cell_type": "code",
      "metadata": {
        "id": "saQ5SspXuH4M",
        "colab": {
          "base_uri": "https://localhost:8080/"
        },
        "outputId": "c2982c0b-26cb-4715-dbfb-5308f7945bbf"
      },
      "source": [
        "# Print the list\n",
        "my_list"
      ],
      "execution_count": null,
      "outputs": [
        {
          "output_type": "execute_result",
          "data": {
            "text/plain": [
              "[1, 2, 3, 1, 1, 1, 3, 10, 5, 8]"
            ]
          },
          "metadata": {
            "tags": []
          },
          "execution_count": 50
        }
      ]
    },
    {
      "cell_type": "code",
      "metadata": {
        "id": "gVdtMuXOurNk",
        "colab": {
          "base_uri": "https://localhost:8080/"
        },
        "outputId": "3af333c9-77ea-45a1-a82e-13bd5c20d262"
      },
      "source": [
        "len(my_list)"
      ],
      "execution_count": null,
      "outputs": [
        {
          "output_type": "execute_result",
          "data": {
            "text/plain": [
              "10"
            ]
          },
          "metadata": {
            "tags": []
          },
          "execution_count": 51
        }
      ]
    },
    {
      "cell_type": "code",
      "metadata": {
        "id": "byL4_5EruH4Q"
      },
      "source": [
        "# Append to the end of the list\n",
        "my_list.append('Append me!')"
      ],
      "execution_count": null,
      "outputs": []
    },
    {
      "cell_type": "markdown",
      "metadata": {
        "id": "7yniA300uH4V"
      },
      "source": [
        "* Ah darn it! I was expecting some output. Lets see what happened to <code>my_list</code>"
      ]
    },
    {
      "cell_type": "code",
      "metadata": {
        "id": "t1qW2S6SuH4W",
        "colab": {
          "base_uri": "https://localhost:8080/"
        },
        "outputId": "4d828b5f-8afb-4995-bd38-08faffa1c138"
      },
      "source": [
        "print(my_list)"
      ],
      "execution_count": null,
      "outputs": [
        {
          "output_type": "stream",
          "text": [
            "[1, 2, 3, 1, 1, 1, 3, 10, 5, 8, 'Append me!']\n"
          ],
          "name": "stdout"
        }
      ]
    },
    {
      "cell_type": "code",
      "metadata": {
        "colab": {
          "base_uri": "https://localhost:8080/"
        },
        "id": "9BMYgas1XeYO",
        "outputId": "3ca4b093-098c-4406-fcdf-7dd22332b9b3"
      },
      "source": [
        "len(my_list)"
      ],
      "execution_count": null,
      "outputs": [
        {
          "output_type": "execute_result",
          "data": {
            "text/plain": [
              "11"
            ]
          },
          "metadata": {
            "tags": []
          },
          "execution_count": 54
        }
      ]
    },
    {
      "cell_type": "markdown",
      "metadata": {
        "id": "L4UT-17_uH4c"
      },
      "source": [
        "* Woah! Calling the <code>append()</code> method changed my list? Yes, the <code>append()</code>  method changes your original list!"
      ]
    },
    {
      "cell_type": "code",
      "metadata": {
        "id": "_llNxOVDuH4c"
      },
      "source": [
        "# Show\n",
        "my_list.append(2.73)"
      ],
      "execution_count": null,
      "outputs": []
    },
    {
      "cell_type": "code",
      "metadata": {
        "id": "dc-ercdKuH4h",
        "colab": {
          "base_uri": "https://localhost:8080/"
        },
        "outputId": "11db0d20-fa02-41a6-f831-bc4ed6f80b79"
      },
      "source": [
        "print(my_list)"
      ],
      "execution_count": null,
      "outputs": [
        {
          "output_type": "stream",
          "text": [
            "[1, 2, 3, 1, 1, 1, 3, 10, 5, 8, 'Append me!', 2.73]\n"
          ],
          "name": "stdout"
        }
      ]
    },
    {
      "cell_type": "markdown",
      "metadata": {
        "id": "3NrEzBJFuH4u"
      },
      "source": [
        "* We can in fact add a list object to our <code>my_list</code> object"
      ]
    },
    {
      "cell_type": "code",
      "metadata": {
        "id": "xIMMzSLNuH4u"
      },
      "source": [
        "my_list.append([1,2,3])"
      ],
      "execution_count": null,
      "outputs": []
    },
    {
      "cell_type": "code",
      "metadata": {
        "id": "CjjTg7jAuH4y",
        "colab": {
          "base_uri": "https://localhost:8080/"
        },
        "outputId": "2c0fc982-1fe4-4dd6-a6cb-25ddb69506ad"
      },
      "source": [
        "my_list"
      ],
      "execution_count": null,
      "outputs": [
        {
          "output_type": "execute_result",
          "data": {
            "text/plain": [
              "[1, 2, 3, 1, 1, 1, 3, 10, 5, 8, 'Append me!', 2.73, [1, 2, 3]]"
            ]
          },
          "metadata": {
            "tags": []
          },
          "execution_count": 58
        }
      ]
    },
    {
      "cell_type": "code",
      "metadata": {
        "colab": {
          "base_uri": "https://localhost:8080/"
        },
        "id": "vd8gGikTYUF4",
        "outputId": "cd1451a3-612d-4508-dcfb-e34c1dfb82e7"
      },
      "source": [
        "len(my_list)"
      ],
      "execution_count": null,
      "outputs": [
        {
          "output_type": "execute_result",
          "data": {
            "text/plain": [
              "13"
            ]
          },
          "metadata": {
            "tags": []
          },
          "execution_count": 59
        }
      ]
    },
    {
      "cell_type": "code",
      "metadata": {
        "id": "tPnUf3nbYgqs"
      },
      "source": [
        "my_list.append([10,[19,20],30])"
      ],
      "execution_count": null,
      "outputs": []
    },
    {
      "cell_type": "code",
      "metadata": {
        "colab": {
          "base_uri": "https://localhost:8080/"
        },
        "id": "Blq4mDwXYme1",
        "outputId": "4e353abf-cdf1-4c17-ad2f-a950fca2a4f2"
      },
      "source": [
        "len(my_list)"
      ],
      "execution_count": null,
      "outputs": [
        {
          "output_type": "execute_result",
          "data": {
            "text/plain": [
              "14"
            ]
          },
          "metadata": {
            "tags": []
          },
          "execution_count": 62
        }
      ]
    },
    {
      "cell_type": "markdown",
      "metadata": {
        "id": "tGmbu4MKuH43"
      },
      "source": [
        "### <code>extend()</code>\n",
        "\n",
        "* Use the <code> extend()</code> method to merge a list to an existing list\n",
        "\n",
        "\n",
        "* <code> extend()</code> method takes a list or any iterable(don't worry about it now) as an argument.\n",
        "\n",
        "\n",
        "* Quite helpful when you have two or more lists and you want to merge them together"
      ]
    },
    {
      "cell_type": "code",
      "metadata": {
        "id": "yvkbC_3uuH43",
        "colab": {
          "base_uri": "https://localhost:8080/"
        },
        "outputId": "c08aa741-8123-40b6-f96e-754b6b46d1ef"
      },
      "source": [
        "# Print the list\n",
        "print(my_list)"
      ],
      "execution_count": null,
      "outputs": [
        {
          "output_type": "stream",
          "text": [
            "[1, 2, 3, 1, 1, 1, 3, 10, 5, 8, 'Append me!', 2.73, [1, 2, 3], [10, [19, 20], 30]]\n"
          ],
          "name": "stdout"
        }
      ]
    },
    {
      "cell_type": "code",
      "metadata": {
        "id": "gdvUZUYEuH49"
      },
      "source": [
        "my_list.extend(['Wubba','Lubba','Dub Dub'])"
      ],
      "execution_count": null,
      "outputs": []
    },
    {
      "cell_type": "code",
      "metadata": {
        "id": "PU-1mE1xuH5A",
        "colab": {
          "base_uri": "https://localhost:8080/"
        },
        "outputId": "49f1b361-b864-459f-a72b-1f0953b9c917"
      },
      "source": [
        "print(my_list)"
      ],
      "execution_count": null,
      "outputs": [
        {
          "output_type": "stream",
          "text": [
            "[1, 2, 3, 1, 1, 1, 3, 10, 5, 8, 'Append me!', 2.73, [1, 2, 3], [10, [19, 20], 30], 'Wubba', 'Lubba', 'Dub Dub']\n"
          ],
          "name": "stdout"
        }
      ]
    },
    {
      "cell_type": "code",
      "metadata": {
        "colab": {
          "base_uri": "https://localhost:8080/"
        },
        "id": "hQo7GQA0aDIz",
        "outputId": "60cd68d4-03d8-416a-ac6a-57d057c16469"
      },
      "source": [
        "len(my_list)"
      ],
      "execution_count": null,
      "outputs": [
        {
          "output_type": "execute_result",
          "data": {
            "text/plain": [
              "17"
            ]
          },
          "metadata": {
            "tags": []
          },
          "execution_count": 68
        }
      ]
    },
    {
      "cell_type": "markdown",
      "metadata": {
        "id": "rshOIKENuH5F"
      },
      "source": [
        "### <code>pop()</code>\n",
        "\n",
        "* Use <code>pop()</code> to \"pop off\" an item from the list.\n",
        "\n",
        "\n",
        "* By default <code>pop()</code> takes off the element at the last index, but you can also specify which index to pop off.\n",
        "\n",
        "\n",
        "* <code>pop()</code> takes the index as an argument and returns the elenent which was popped off."
      ]
    },
    {
      "cell_type": "code",
      "metadata": {
        "id": "fhLzeQHYuH5G",
        "colab": {
          "base_uri": "https://localhost:8080/"
        },
        "outputId": "33b55abb-eded-4a90-868d-8bdafe0e3d15"
      },
      "source": [
        "# Print the list\n",
        "print(my_list)"
      ],
      "execution_count": null,
      "outputs": [
        {
          "output_type": "stream",
          "text": [
            "[1, 2, 3, 1, 1, 1, 3, 10, 5, 8, 'Append me!', 2.73, [1, 2, 3], [10, [19, 20], 30], 'Wubba', 'Lubba', 'Dub Dub']\n"
          ],
          "name": "stdout"
        }
      ]
    },
    {
      "cell_type": "code",
      "metadata": {
        "id": "k1OLmtIquH5M",
        "colab": {
          "base_uri": "https://localhost:8080/",
          "height": 34
        },
        "outputId": "d93570f5-f48b-4228-ef47-b6e6c66214ce"
      },
      "source": [
        "# Pop off the 0 indexed item\n",
        "my_list.pop()"
      ],
      "execution_count": null,
      "outputs": [
        {
          "output_type": "execute_result",
          "data": {
            "application/vnd.google.colaboratory.intrinsic+json": {
              "type": "string"
            },
            "text/plain": [
              "'Dub Dub'"
            ]
          },
          "metadata": {
            "tags": []
          },
          "execution_count": 70
        }
      ]
    },
    {
      "cell_type": "markdown",
      "metadata": {
        "id": "SNWR6QjouH5Q"
      },
      "source": [
        "* <code>pop()</code> method changes the list by popping off the element at the specified index"
      ]
    },
    {
      "cell_type": "code",
      "metadata": {
        "id": "TFiATwmXuH5R",
        "colab": {
          "base_uri": "https://localhost:8080/"
        },
        "outputId": "892b870c-7214-44d0-b64c-b6b5d45b58fa"
      },
      "source": [
        "print(my_list)"
      ],
      "execution_count": null,
      "outputs": [
        {
          "output_type": "stream",
          "text": [
            "[1, 2, 3, 1, 1, 1, 3, 10, 5, 8, 'Append me!', 2.73, [1, 2, 3], [10, [19, 20], 30], 'Wubba', 'Lubba']\n"
          ],
          "name": "stdout"
        }
      ]
    },
    {
      "cell_type": "code",
      "metadata": {
        "id": "33cAUa7wuH5V",
        "colab": {
          "base_uri": "https://localhost:8080/",
          "height": 34
        },
        "outputId": "1b59c0c9-720c-44dd-9b93-b86a038f8247"
      },
      "source": [
        "# Assign the popped element, remember default popped index is -1\n",
        "my_list.pop(-1)"
      ],
      "execution_count": null,
      "outputs": [
        {
          "output_type": "execute_result",
          "data": {
            "application/vnd.google.colaboratory.intrinsic+json": {
              "type": "string"
            },
            "text/plain": [
              "'Lubba'"
            ]
          },
          "metadata": {
            "tags": []
          },
          "execution_count": 72
        }
      ]
    },
    {
      "cell_type": "code",
      "metadata": {
        "id": "qX6eae3UuH5c",
        "colab": {
          "base_uri": "https://localhost:8080/",
          "height": 34
        },
        "outputId": "08189d70-99a6-4f62-821e-ad3221073dfa"
      },
      "source": [
        "len(my_list)"
      ],
      "execution_count": null,
      "outputs": [
        {
          "output_type": "execute_result",
          "data": {
            "text/plain": [
              "14"
            ]
          },
          "metadata": {
            "tags": []
          },
          "execution_count": 151
        }
      ]
    },
    {
      "cell_type": "code",
      "metadata": {
        "id": "pHi_Ws8uw0w0",
        "colab": {
          "base_uri": "https://localhost:8080/"
        },
        "outputId": "9cbdafc3-fe09-4f66-ae68-60f258248518"
      },
      "source": [
        "print(my_list)"
      ],
      "execution_count": null,
      "outputs": [
        {
          "output_type": "stream",
          "text": [
            "[1, 2, 3, 1, 1, 1, 3, 10, 5, 8, 'Append me!', 2.73, [1, 2, 3], [10, [19, 20], 30], 'Wubba']\n"
          ],
          "name": "stdout"
        }
      ]
    },
    {
      "cell_type": "markdown",
      "metadata": {
        "id": "YBAQ1FyQuH5f"
      },
      "source": [
        "### <code>remove()</code>\n",
        "\n",
        "* Use <code>remove()</code> to remove an item/element from the list.\n",
        "\n",
        "\n",
        "* By default <code>remove()</code> removes the specified element from the list.\n",
        "\n",
        "\n",
        "* <code>remove()</code> takes the element as an argument."
      ]
    },
    {
      "cell_type": "code",
      "metadata": {
        "id": "j9pp3cEJuH5g",
        "colab": {
          "base_uri": "https://localhost:8080/"
        },
        "outputId": "54605d02-0db9-4f8d-d4c2-4e7496e3ed70"
      },
      "source": [
        "# Print the list\n",
        "print(my_list)"
      ],
      "execution_count": null,
      "outputs": [
        {
          "output_type": "stream",
          "text": [
            "[1, 2, 3, 1, 1, 1, 3, 10, 5, 8, 'Append me!', 2.73, [1, 2, 3], [10, [19, 20], 30], 'Wubba']\n"
          ],
          "name": "stdout"
        }
      ]
    },
    {
      "cell_type": "code",
      "metadata": {
        "id": "pTPu7lszuH5j"
      },
      "source": [
        "# Remove the element which you want to\n",
        "my_list.remove([10, [19, 20], 30])"
      ],
      "execution_count": null,
      "outputs": []
    },
    {
      "cell_type": "code",
      "metadata": {
        "id": "wI2Yz2UYuH5p",
        "colab": {
          "base_uri": "https://localhost:8080/"
        },
        "outputId": "7869e1cf-2e5a-48ad-86b8-131ba87df250"
      },
      "source": [
        "# Show\n",
        "print(my_list)"
      ],
      "execution_count": null,
      "outputs": [
        {
          "output_type": "stream",
          "text": [
            "[1, 2, 3, 1, 1, 1, 3, 10, 5, 8, 'Append me!', 2.73, [1, 2, 3], 'Wubba']\n"
          ],
          "name": "stdout"
        }
      ]
    },
    {
      "cell_type": "code",
      "metadata": {
        "id": "OWn2q_6cxYo2"
      },
      "source": [
        "my_list.remove([1,2,3])"
      ],
      "execution_count": null,
      "outputs": []
    },
    {
      "cell_type": "code",
      "metadata": {
        "id": "D_duqvRJxd16",
        "colab": {
          "base_uri": "https://localhost:8080/"
        },
        "outputId": "fbbca78e-e6d6-4e35-c09b-7012e936f468"
      },
      "source": [
        "print(my_list)"
      ],
      "execution_count": null,
      "outputs": [
        {
          "output_type": "stream",
          "text": [
            "[1, 2, 3, 1, 1, 1, 3, 10, 5, 8, 'Append me!', 2.73, 'Wubba']\n"
          ],
          "name": "stdout"
        }
      ]
    },
    {
      "cell_type": "code",
      "metadata": {
        "id": "i8h8-qVtxhPI",
        "colab": {
          "base_uri": "https://localhost:8080/",
          "height": 34
        },
        "outputId": "e44f91cd-7959-4c28-b7f1-a536c7a6bc31"
      },
      "source": [
        "len(my_list)"
      ],
      "execution_count": null,
      "outputs": [
        {
          "output_type": "execute_result",
          "data": {
            "text/plain": [
              "12"
            ]
          },
          "metadata": {
            "tags": []
          },
          "execution_count": 158
        }
      ]
    },
    {
      "cell_type": "code",
      "metadata": {
        "id": "f5-UZ88Exwth"
      },
      "source": [
        "my_list.remove(1)"
      ],
      "execution_count": null,
      "outputs": []
    },
    {
      "cell_type": "code",
      "metadata": {
        "id": "d3WxCp0Cxzty",
        "colab": {
          "base_uri": "https://localhost:8080/",
          "height": 34
        },
        "outputId": "07f8af9d-9fc7-4f8b-ffdd-8ce5ee2c99de"
      },
      "source": [
        "print(my_list)"
      ],
      "execution_count": null,
      "outputs": [
        {
          "output_type": "stream",
          "text": [
            "[2, 3, 1, 1, 3, 10, 5, 8, 1.43, 'Wubba', 'Lubba']\n"
          ],
          "name": "stdout"
        }
      ]
    },
    {
      "cell_type": "code",
      "metadata": {
        "id": "4ewbAKKhx-vS",
        "colab": {
          "base_uri": "https://localhost:8080/",
          "height": 34
        },
        "outputId": "fcf8fe18-ccbc-4913-f514-0f12d52561a8"
      },
      "source": [
        "len(my_list)"
      ],
      "execution_count": null,
      "outputs": [
        {
          "output_type": "execute_result",
          "data": {
            "text/plain": [
              "11"
            ]
          },
          "metadata": {
            "tags": []
          },
          "execution_count": 161
        }
      ]
    },
    {
      "cell_type": "code",
      "metadata": {
        "id": "-gey8zXHcsH5"
      },
      "source": [
        "my_list.clear"
      ],
      "execution_count": null,
      "outputs": []
    },
    {
      "cell_type": "markdown",
      "metadata": {
        "id": "Wheg57npuH5t"
      },
      "source": [
        "### <code>count()</code>\n",
        "\n",
        "\n",
        "* The <code>count()</code> method returns the total occurrence of a specified element in the list"
      ]
    },
    {
      "cell_type": "code",
      "metadata": {
        "id": "ECnUwg_eyG47",
        "colab": {
          "base_uri": "https://localhost:8080/"
        },
        "outputId": "40ee7017-8927-4661-97ec-9294def52ec7"
      },
      "source": [
        "print(my_list)"
      ],
      "execution_count": null,
      "outputs": [
        {
          "output_type": "stream",
          "text": [
            "[1, 2, 3, 1, 1, 1, 3, 10, 5, 8, 'Append me!', 2.73, 'Wubba']\n"
          ],
          "name": "stdout"
        }
      ]
    },
    {
      "cell_type": "code",
      "metadata": {
        "id": "v62QCGFTuH5u",
        "colab": {
          "base_uri": "https://localhost:8080/"
        },
        "outputId": "d8a05aa6-9665-45e8-ae95-ba3508f1cafb"
      },
      "source": [
        "# Count the number of times element 1 occurs in my_list\n",
        "my_list.count('Wubba')"
      ],
      "execution_count": null,
      "outputs": [
        {
          "output_type": "execute_result",
          "data": {
            "text/plain": [
              "1"
            ]
          },
          "metadata": {
            "tags": []
          },
          "execution_count": 80
        }
      ]
    },
    {
      "cell_type": "code",
      "metadata": {
        "id": "LA3k4qScuH5z",
        "colab": {
          "base_uri": "https://localhost:8080/"
        },
        "outputId": "643ff309-87e8-47df-8187-0e0739c134ba"
      },
      "source": [
        "my_list.count(1)"
      ],
      "execution_count": null,
      "outputs": [
        {
          "output_type": "execute_result",
          "data": {
            "text/plain": [
              "4"
            ]
          },
          "metadata": {
            "tags": []
          },
          "execution_count": 82
        }
      ]
    },
    {
      "cell_type": "markdown",
      "metadata": {
        "id": "avyykdGjuH52"
      },
      "source": [
        "### <code>index()</code>\n",
        "\n",
        "\n",
        "* The <code>index()</code> method returns the index of a specified element."
      ]
    },
    {
      "cell_type": "code",
      "metadata": {
        "id": "78Mc3vSuydeb",
        "colab": {
          "base_uri": "https://localhost:8080/"
        },
        "outputId": "1a66af92-132e-495b-d456-c13b9626be6b"
      },
      "source": [
        "print(my_list)"
      ],
      "execution_count": null,
      "outputs": [
        {
          "output_type": "stream",
          "text": [
            "[1, 2, 3, 1, 1, 1, 3, 10, 5, 8, 'Append me!', 2.73, 'Wubba']\n"
          ],
          "name": "stdout"
        }
      ]
    },
    {
      "cell_type": "code",
      "metadata": {
        "id": "ziOkTs68uH52",
        "colab": {
          "base_uri": "https://localhost:8080/"
        },
        "outputId": "1ae8d692-47bb-4e28-b496-9356b10db045"
      },
      "source": [
        "my_list.index('Wubba')"
      ],
      "execution_count": null,
      "outputs": [
        {
          "output_type": "execute_result",
          "data": {
            "text/plain": [
              "12"
            ]
          },
          "metadata": {
            "tags": []
          },
          "execution_count": 84
        }
      ]
    },
    {
      "cell_type": "code",
      "metadata": {
        "id": "k-ByxvTYuH54",
        "colab": {
          "base_uri": "https://localhost:8080/"
        },
        "outputId": "2d8dc546-4cb7-421a-e8c5-9bfa6972a5d5"
      },
      "source": [
        "my_list.index(3)"
      ],
      "execution_count": null,
      "outputs": [
        {
          "output_type": "execute_result",
          "data": {
            "text/plain": [
              "2"
            ]
          },
          "metadata": {
            "tags": []
          },
          "execution_count": 85
        }
      ]
    },
    {
      "cell_type": "markdown",
      "metadata": {
        "id": "f4JqHtEouH57"
      },
      "source": [
        "### <code>sort()</code>\n",
        "\n",
        "* Use <code>sort()</code> to sort the list in either ascending/descending order\n",
        "\n",
        "\n",
        "* The sorting is done in ascending order by default\n",
        "\n",
        "\n",
        "* <code>sort()</code> method takes the reverse boolean as an argument\n",
        "\n",
        "\n",
        "* <code>sort()</code> method only works on a list with elements of same data type"
      ]
    },
    {
      "cell_type": "code",
      "metadata": {
        "id": "yOIhOzjruH57"
      },
      "source": [
        "new_list = [6, 9, 1, 3, 5]"
      ],
      "execution_count": null,
      "outputs": []
    },
    {
      "cell_type": "code",
      "metadata": {
        "id": "VhPOveeYuH59"
      },
      "source": [
        "# Use sort to sort the list (this is permanent!)\n",
        "new_list.sort()"
      ],
      "execution_count": null,
      "outputs": []
    },
    {
      "cell_type": "code",
      "metadata": {
        "id": "iw_PGYFmuH6S",
        "colab": {
          "base_uri": "https://localhost:8080/"
        },
        "outputId": "73cfc470-9b06-4976-eb4f-abdcd10166d6"
      },
      "source": [
        "print(new_list)"
      ],
      "execution_count": null,
      "outputs": [
        {
          "output_type": "stream",
          "text": [
            "[1, 3, 5, 6, 9]\n"
          ],
          "name": "stdout"
        }
      ]
    },
    {
      "cell_type": "code",
      "metadata": {
        "id": "7G1nOh1VuH6U",
        "colab": {
          "base_uri": "https://localhost:8080/"
        },
        "outputId": "48eec9e8-7315-4f3e-91f9-6ea42e813bad"
      },
      "source": [
        "# Use the reverse boolean to set the ascending or descending order\n",
        "new_list.sort(reverse=True)\n",
        "print(new_list)"
      ],
      "execution_count": null,
      "outputs": [
        {
          "output_type": "stream",
          "text": [
            "[9, 6, 5, 3, 1]\n"
          ],
          "name": "stdout"
        }
      ]
    },
    {
      "cell_type": "code",
      "metadata": {
        "id": "QIoFBvqOzosU"
      },
      "source": [
        "boolean_list = [True, False]"
      ],
      "execution_count": null,
      "outputs": []
    },
    {
      "cell_type": "code",
      "metadata": {
        "id": "tqENLXmJzueH"
      },
      "source": [
        "boolean_list.sort(reverse=True)"
      ],
      "execution_count": null,
      "outputs": []
    },
    {
      "cell_type": "code",
      "metadata": {
        "id": "O6MiKYnMzxvD",
        "colab": {
          "base_uri": "https://localhost:8080/",
          "height": 34
        },
        "outputId": "be040da8-7455-47da-9d38-77eb8e83d9a1"
      },
      "source": [
        "print(boolean_list)"
      ],
      "execution_count": null,
      "outputs": [
        {
          "output_type": "stream",
          "text": [
            "[True, False]\n"
          ],
          "name": "stdout"
        }
      ]
    },
    {
      "cell_type": "markdown",
      "metadata": {
        "id": "-PKIGd9xuH6a"
      },
      "source": [
        "### <code>reverse()</code>\n",
        "\n",
        "* <code>reverse()</code> method reverses the list"
      ]
    },
    {
      "cell_type": "code",
      "metadata": {
        "id": "0Z_IZuJeuH6d"
      },
      "source": [
        "my_list = [1, 1, 1, 1, 1.43, 2, 3, 3, 5, 8, 10, 'Lubba', 'Dub Dub']"
      ],
      "execution_count": null,
      "outputs": []
    },
    {
      "cell_type": "code",
      "metadata": {
        "id": "idf-jZVG0FWq",
        "colab": {
          "base_uri": "https://localhost:8080/"
        },
        "outputId": "2e602d59-7152-4ce2-b427-52997b4843a1"
      },
      "source": [
        "print(my_list)"
      ],
      "execution_count": null,
      "outputs": [
        {
          "output_type": "stream",
          "text": [
            "[1, 1, 1, 1, 1.43, 2, 3, 3, 5, 8, 10, 'Lubba', 'Dub Dub']\n"
          ],
          "name": "stdout"
        }
      ]
    },
    {
      "cell_type": "code",
      "metadata": {
        "id": "XlHNzFuWuH6f"
      },
      "source": [
        "my_list.reverse()"
      ],
      "execution_count": null,
      "outputs": []
    },
    {
      "cell_type": "code",
      "metadata": {
        "id": "EIjRqvMsuH6h",
        "colab": {
          "base_uri": "https://localhost:8080/"
        },
        "outputId": "718bb64e-eb4d-4a50-8c0e-4bbddaff6429"
      },
      "source": [
        "print(my_list)"
      ],
      "execution_count": null,
      "outputs": [
        {
          "output_type": "stream",
          "text": [
            "['Dub Dub', 'Lubba', 10, 8, 5, 3, 3, 2, 1.43, 1, 1, 1, 1]\n"
          ],
          "name": "stdout"
        }
      ]
    },
    {
      "cell_type": "markdown",
      "source": [
        "## Loops\n",
        "\n",
        "For loop : In the context of most data science work, Python for loops are used to loop through an iterable object (like a list, tuple, set, etc.) and perform the same action for each entry. For example, a for loop would allow us to iterate through a list, performing the same action on each item in the list.\n",
        "\n",
        "while loop : The while loop is somewhat similar to an if statement, it executes the code inside, if the condition is True. However, as opposed to the if statement, the while loop continues to execute the code repeatedly as long as the condition is True."
      ],
      "metadata": {
        "id": "TqHurcLXeUEz"
      }
    },
    {
      "cell_type": "markdown",
      "source": [
        "## break, continue, pass\n",
        "\n",
        "### We can use <code>break</code>, <code>continue</code>, and <code>pass</code> statements in our loops to add additional functionality for various cases. The three statements are defined by:\n",
        "\n",
        "    break: Breaks out of the current closest enclosing loop.\n",
        "    continue: Goes to the top of the closest enclosing loop.\n",
        "    pass: Does nothing at all.\n",
        "    \n",
        "    \n",
        "### Thinking about <code>break</code> and <code>continue</code> statements, the general format of the <code>while</code> loop looks like this:\n",
        "\n",
        "    while test:\n",
        "        code statement\n",
        "        if test:\n",
        "            break\n",
        "        if test:\n",
        "            continue\n",
        "    else:\n",
        "\n",
        "### <code>break</code> and <code>continue</code> statements can appear anywhere inside the loop’s body, but we will usually put them further nested in conjunction with an <code>if</code> statement to perform an action based on some condition.\n"
      ],
      "metadata": {
        "id": "qdcPrwMSeo0n"
      }
    },
    {
      "cell_type": "markdown",
      "source": [
        "## List Comprehension"
      ],
      "metadata": {
        "id": "1Nwg9OjefE6S"
      }
    },
    {
      "cell_type": "markdown",
      "source": [
        "### List comprehensions are a tool for transforming one list (any iterable actually) into another list. During this transformation, elements can be conditionally included in the new list and each element can be transformed as needed."
      ],
      "metadata": {
        "id": "2bm0Pg_sfM4A"
      }
    },
    {
      "cell_type": "markdown",
      "source": [
        "## <u> From loops to comprehensions</u>\n",
        "\n",
        "### <b>Every list comprehension can be rewritten as a <code>for</code> loop but not every <code>for</code> loop can be rewritten as a list comprehension </b>."
      ],
      "metadata": {
        "id": "3AXMkrRefU74"
      }
    },
    {
      "cell_type": "markdown",
      "source": [
        "## A list comprehension consists of the following parts:\n",
        "\n",
        "* An Input Sequence.\n",
        "* A Variable representing members of the input sequence.\n",
        "* An Optional Predicate expression.\n",
        "* An Output Expression producing elements of the output list from members of the Input Sequence that satisfy the predicate."
      ],
      "metadata": {
        "id": "CnLri0W6fjkb"
      }
    },
    {
      "cell_type": "markdown",
      "source": [
        "![List Comprehension.PNG](data:image/png;base64,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)"
      ],
      "metadata": {
        "id": "6rwnEujGfcoK"
      }
    },
    {
      "cell_type": "markdown",
      "source": [
        "* #### The iterator part iterates through each member <code>number</code> of the input sequence <code>list_of_numbers</code>.\n",
        "* #### The predicate checks if the member is even.\n",
        "* #### If the member is even then it is passed to the output expression, squared, to become a member of the output list."
      ],
      "metadata": {
        "id": "oJW2uNoXfcks"
      }
    },
    {
      "cell_type": "markdown",
      "source": [
        "## <u> Using <code>for</code> loop </u>    \n",
        "    even_squared_numbers = []\n",
        "\n",
        "    for number in list_of_numbers:\n",
        "      if number%2 == 0:\n",
        "        even_squared_numbers.append(number**2)\n",
        "\n",
        "## <u> Using list comprehension </u>\n",
        "\n",
        "    even_squared_numbers = [number**2 for number in list_of_numbers if number%2==0]\n",
        "\n",
        "## So how did we convert our <code>for</code> loop into a list comprehension?\n",
        "* Copying the variable assignment for our new empty list\n",
        "* Copying the expression <code>number**2</code> that we’ve been appending into this new list\n",
        "* Copying the for loop line, excluding the final <code>:</code>\n",
        "* Copying the if statement line, also without the <code>:</code>"
      ],
      "metadata": {
        "id": "pZxGMAI0fcfT"
      }
    },
    {
      "cell_type": "markdown",
      "source": [
        "## **Functions**\n",
        "\n",
        "\n",
        "Functions will be one of our main building blocks when we construct larger and larger amounts of code to solve problems.\n",
        "\n",
        "**So what is a function?**\n",
        "\n",
        "Formally, a function is a useful device that groups together a set of statements so they can be run more than once. They can also let us specify parameters that can serve as inputs to the functions.\n",
        "\n",
        "\n",
        "Functions will be one of the most basic levels of **reusing code in Python**."
      ],
      "metadata": {
        "id": "drBNe-DMhgdp"
      }
    },
    {
      "cell_type": "code",
      "source": [],
      "metadata": {
        "id": "dSyPxNFihkeX"
      },
      "execution_count": null,
      "outputs": []
    }
  ]
}